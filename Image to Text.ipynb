{
 "cells": [
  {
   "cell_type": "code",
   "execution_count": 1,
   "metadata": {},
   "outputs": [
    {
     "name": "stdout",
     "output_type": "stream",
     "text": [
      "Ready\n"
     ]
    }
   ],
   "source": [
    "import os\n",
    "print('Ready')"
   ]
  },
  {
   "cell_type": "code",
   "execution_count": 2,
   "metadata": {},
   "outputs": [],
   "source": [
    "def remove_non_ascii(text):\n",
    "    return ''.join(i for i in text if ord(i)<128)\n",
    "\n",
    "def remove_newline_feed(text):\n",
    "    return text.replace('\\n','')\n",
    "\n",
    "def clearup_text(text):\n",
    "    return remove_newline_feed(remove_non_ascii(text))"
   ]
  },
  {
   "cell_type": "code",
   "execution_count": 25,
   "metadata": {},
   "outputs": [],
   "source": [
    "def extract_text(img_path):\n",
    "    try:\n",
    "        text = os.popen('tesseract {} stdout -l eng+hin --oem 1 --psm 3'.format(img_path)).read()\n",
    "        return clearup_text(text)\n",
    "    except:\n",
    "        return \"\""
   ]
  },
  {
   "cell_type": "code",
   "execution_count": 26,
   "metadata": {},
   "outputs": [
    {
     "name": "stdout",
     "output_type": "stream",
     "text": [
      "Decorate Your House For Christmas And We'llPredict How 2024 Is Going To Be For YouYour aesthetic will determine your fate @\n"
     ]
    }
   ],
   "source": [
    "img_path = 'kaif.jpg'\n",
    "result = extract_text(img_path)\n",
    "if result:\n",
    "    print(result)\n",
    "else:\n",
    "    print(\"Extraction failed.\")"
   ]
  },
  {
   "cell_type": "code",
   "execution_count": 27,
   "metadata": {},
   "outputs": [],
   "source": [
    "DATA_DIR = 'cbdata/'"
   ]
  },
  {
   "cell_type": "code",
   "execution_count": 28,
   "metadata": {},
   "outputs": [],
   "source": [
    "with open('cbdata/clickbait-or-not.csv','w') as csvout:\n",
    "    csvout.write('label,data\\n')\n",
    "    for folder in ['train/', 'test/']:\n",
    "        for _type in ['clickbait', 'legit']:\n",
    "            IMG_DIR = DATA_DIR + folder + _type\n",
    "            for img in os.listdir(IMG_DIR):\n",
    "                IMG_PATH = IMG_DIR + '/' + img\n",
    "                if os.path.splitext(IMG_PATH)[1] in ['.jpg', '.jpeg', '.png']:\n",
    "                    if extract_text(IMG_PATH) != \"\":\n",
    "                        csvout.write(_type + ',' + extract_text(IMG_PATH))\n",
    "                        csvout.write('\\n')"
   ]
  },
  {
   "cell_type": "code",
   "execution_count": 37,
   "metadata": {},
   "outputs": [],
   "source": []
  }
 ],
 "metadata": {
  "kernelspec": {
   "display_name": "Python 3 (ipykernel)",
   "language": "python",
   "name": "python3"
  },
  "language_info": {
   "codemirror_mode": {
    "name": "ipython",
    "version": 3
   },
   "file_extension": ".py",
   "mimetype": "text/x-python",
   "name": "python",
   "nbconvert_exporter": "python",
   "pygments_lexer": "ipython3",
   "version": "3.9.13"
  }
 },
 "nbformat": 4,
 "nbformat_minor": 2
}
